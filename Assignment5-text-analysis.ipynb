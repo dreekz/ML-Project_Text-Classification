{
 "cells": [
  {
   "cell_type": "markdown",
   "metadata": {},
   "source": [
    "# Assignment 5 - Text Analysis\n",
    "An explanation this assignment could be found in the .pdf explanation document"
   ]
  },
  {
   "cell_type": "markdown",
   "metadata": {},
   "source": [
    "\n",
    "## Materials to review for this assignment\n",
    "<h4>From Moodle:</h4> \n",
    "<h5><u>Review the notebooks regarding the following python topics</u>:</h5>\n",
    "<div class=\"alert alert-info\">\n",
    "&#x2714; <b>Working with strings</b> (tutorial notebook)<br/>\n",
    "&#x2714; <b>Text Analysis</b> (tutorial notebook)<br/>\n",
    "&#x2714; <b>Hebrew text analysis tools (tokenizer, wordnet)</b> (moodle example)<br/>\n",
    "&#x2714; <b>(brief review) All previous notebooks</b><br/>\n",
    "</div> \n",
    "<h5><u>Review the presentations regarding the following topics</u>:</h5>\n",
    "<div class=\"alert alert-info\">\n",
    "&#x2714; <b>Text Analysis</b> (lecture presentation)<br/>\n",
    "&#x2714; <b>(brief review) All other presentations</b><br/>\n",
    "</div>"
   ]
  },
  {
   "cell_type": "markdown",
   "metadata": {},
   "source": [
    "## Preceding Step - import modules (packages)\n",
    "This step is necessary in order to use external modules (packages). <br/>"
   ]
  },
  {
   "cell_type": "code",
   "execution_count": 1,
   "metadata": {},
   "outputs": [],
   "source": [
    "# --------------------------------------\n",
    "import pandas as pd\n",
    "import numpy as np\n",
    "# --------------------------------------\n",
    "\n",
    "\n",
    "# --------------------------------------\n",
    "# ------------- visualizations:\n",
    "import seaborn as sns\n",
    "import matplotlib.pyplot as plt\n",
    "from matplotlib.colors import ListedColormap\n",
    "# --------------------------------------\n",
    "\n",
    "\n",
    "# ---------------------------------------\n",
    "import sklearn\n",
    "from sklearn import preprocessing, metrics, pipeline, model_selection, feature_extraction \n",
    "from sklearn import naive_bayes, linear_model, svm, neural_network, neighbors, tree\n",
    "from sklearn import decomposition, cluster\n",
    "\n",
    "from sklearn.model_selection import train_test_split, cross_val_score, GridSearchCV \n",
    "from sklearn.pipeline import Pipeline\n",
    "from sklearn.metrics import accuracy_score, confusion_matrix\n",
    "from sklearn.metrics import precision_score, recall_score, f1_score\n",
    "from sklearn.metrics import mean_squared_error, r2_score, silhouette_score\n",
    "from sklearn.preprocessing import MinMaxScaler, StandardScaler, LabelEncoder\n",
    "\n",
    "from sklearn.svm import LinearSVC\n",
    "from sklearn.neural_network import MLPClassifier\n",
    "from sklearn.linear_model import Perceptron, SGDClassifier\n",
    "from sklearn.decomposition import PCA\n",
    "from sklearn.cluster import KMeans\n",
    "from sklearn.naive_bayes import MultinomialNB, GaussianNB\n",
    "from sklearn.neighbors import KNeighborsClassifier\n",
    "from sklearn.tree import DecisionTreeClassifier\n",
    "# ---------------------------------------\n",
    "\n",
    "\n",
    "# ----------------- output and visualizations: \n",
    "import warnings\n",
    "from sklearn.exceptions import ConvergenceWarning\n",
    "warnings.simplefilter(\"ignore\")\n",
    "warnings.simplefilter(action='ignore', category=FutureWarning)\n",
    "warnings.simplefilter(\"ignore\", category=ConvergenceWarning)\n",
    "# show several prints in one cell. This will allow us to condence every trick in one cell.\n",
    "from IPython.core.interactiveshell import InteractiveShell\n",
    "InteractiveShell.ast_node_interactivity = \"all\"\n",
    "%matplotlib inline\n",
    "pd.pandas.set_option('display.max_columns', None)\n",
    "pd.set_option('display.float_format', lambda x: '%.3f' % x)\n",
    "# ---------------------------------------"
   ]
  },
  {
   "cell_type": "markdown",
   "metadata": {},
   "source": [
    "### Text analysis and String manipulation imports:"
   ]
  },
  {
   "cell_type": "code",
   "execution_count": 2,
   "metadata": {},
   "outputs": [],
   "source": [
    "# --------------------------------------\n",
    "# --------- Text analysis and Hebrew text analysis imports:\n",
    "# vectorizers:\n",
    "from sklearn.feature_extraction import text\n",
    "from sklearn.feature_extraction.text import CountVectorizer, TfidfVectorizer\n",
    "from sklearn.preprocessing import Normalizer\n",
    "\n",
    "# regular expressions:\n",
    "import re\n",
    "# --------------------------------------"
   ]
  },
  {
   "cell_type": "markdown",
   "metadata": {},
   "source": [
    "### (optional) Hebrew text analysis - WordNet (for Hebrew)\n",
    "Note: the WordNet is not a must"
   ]
  },
  {
   "cell_type": "markdown",
   "metadata": {},
   "source": [
    "#### (optional) Only if you didn't install Wordnet (for Hebrew) use:"
   ]
  },
  {
   "cell_type": "code",
   "execution_count": null,
   "metadata": {},
   "outputs": [],
   "source": [
    "# word net installation:\n",
    "\n",
    "# unmark if you want to use and need to install\n",
    "# !pip install wn\n",
    "# !python -m wn download omw-he:1.4"
   ]
  },
  {
   "cell_type": "code",
   "execution_count": null,
   "metadata": {},
   "outputs": [],
   "source": [
    "# word net import:\n",
    "\n",
    "# unmark if you want to use:\n",
    "import wn"
   ]
  },
  {
   "cell_type": "markdown",
   "metadata": {},
   "source": [
    "### (optional) Hebrew text analysis - hebrew_tokenizer (Tokenizer for Hebrew)\n",
    "Note: the hebrew_tokenizer is not a must"
   ]
  },
  {
   "cell_type": "markdown",
   "metadata": {},
   "source": [
    "#### (optional) Only if you didn't install hebrew_tokenizer use:"
   ]
  },
  {
   "cell_type": "code",
   "execution_count": null,
   "metadata": {},
   "outputs": [],
   "source": [
    "# Hebrew tokenizer installation:\n",
    "\n",
    "# unmark if you want to use and need to install:\n",
    "# !pip install hebrew_tokenizer"
   ]
  },
  {
   "cell_type": "code",
   "execution_count": 3,
   "metadata": {},
   "outputs": [
    {
     "name": "stdout",
     "output_type": "stream",
     "text": [
      "C:\\Users\\dreek\\Desktop\\שנה ב' סמסטר ב'\\למידת מכונה-Python\\מטלה 5 סופי\n"
     ]
    }
   ],
   "source": [
    "# Hebrew tokenizer import:\n",
    "\n",
    "# unmark if you want to use:\n",
    "import hebrew_tokenizer as ht"
   ]
  },
  {
   "cell_type": "markdown",
   "metadata": {},
   "source": [
    "### Reading input files\n",
    "Reading input files for train annotated corpus (raw text data) corpus and for the test corpus"
   ]
  },
  {
   "cell_type": "markdown",
   "metadata": {},
   "source": [
    "\n"
   ]
  },
  {
   "cell_type": "code",
   "execution_count": 4,
   "metadata": {},
   "outputs": [],
   "source": [
    "train_filename = 'annotated_corpus_for_train.csv'\n",
    "test_filename  = 'corpus_for_test.csv'\n",
    "df_train = pd.read_csv(train_filename, index_col=None, encoding='utf-8')\n",
    "df_test  = pd.read_csv(test_filename, index_col=None, encoding='utf-8')"
   ]
  },
  {
   "cell_type": "code",
   "execution_count": 5,
   "metadata": {},
   "outputs": [
    {
     "data": {
      "text/html": [
       "<div>\n",
       "<style scoped>\n",
       "    .dataframe tbody tr th:only-of-type {\n",
       "        vertical-align: middle;\n",
       "    }\n",
       "\n",
       "    .dataframe tbody tr th {\n",
       "        vertical-align: top;\n",
       "    }\n",
       "\n",
       "    .dataframe thead th {\n",
       "        text-align: right;\n",
       "    }\n",
       "</style>\n",
       "<table border=\"1\" class=\"dataframe\">\n",
       "  <thead>\n",
       "    <tr style=\"text-align: right;\">\n",
       "      <th></th>\n",
       "      <th>story</th>\n",
       "      <th>gender</th>\n",
       "    </tr>\n",
       "  </thead>\n",
       "  <tbody>\n",
       "    <tr>\n",
       "      <th>0</th>\n",
       "      <td>כשחבר הזמין אותי לחול, לא באמת חשבתי שזה יקרה,...</td>\n",
       "      <td>m</td>\n",
       "    </tr>\n",
       "    <tr>\n",
       "      <th>1</th>\n",
       "      <td>לפני שהתגייסתי לצבא עשיתי כל מני מיונים ליחידו...</td>\n",
       "      <td>m</td>\n",
       "    </tr>\n",
       "    <tr>\n",
       "      <th>2</th>\n",
       "      <td>מאז שהתחילו הלימודים חלומו של כל סטודנט זה הפנ...</td>\n",
       "      <td>f</td>\n",
       "    </tr>\n",
       "    <tr>\n",
       "      <th>3</th>\n",
       "      <td>כשהייתי ילד, מטוסים היה הדבר שהכי ריתק אותי. ב...</td>\n",
       "      <td>m</td>\n",
       "    </tr>\n",
       "    <tr>\n",
       "      <th>4</th>\n",
       "      <td>‏הייתי מדריכה בכפר נוער ומתאם הכפר היינו צריכי...</td>\n",
       "      <td>f</td>\n",
       "    </tr>\n",
       "    <tr>\n",
       "      <th>5</th>\n",
       "      <td>לפני כ3 חודשים טסתי לרומא למשך שבוע. טסתי במטו...</td>\n",
       "      <td>f</td>\n",
       "    </tr>\n",
       "    <tr>\n",
       "      <th>6</th>\n",
       "      <td>אני כבר שנתיים נשוי והשנה אני ואישתי סוף סוף י...</td>\n",
       "      <td>m</td>\n",
       "    </tr>\n",
       "    <tr>\n",
       "      <th>7</th>\n",
       "      <td>השנה התחלנו שיפוץ בדירה שלנו בתל אביב. הדירה ה...</td>\n",
       "      <td>f</td>\n",
       "    </tr>\n",
       "  </tbody>\n",
       "</table>\n",
       "</div>"
      ],
      "text/plain": [
       "                                               story gender\n",
       "0  כשחבר הזמין אותי לחול, לא באמת חשבתי שזה יקרה,...      m\n",
       "1  לפני שהתגייסתי לצבא עשיתי כל מני מיונים ליחידו...      m\n",
       "2  מאז שהתחילו הלימודים חלומו של כל סטודנט זה הפנ...      f\n",
       "3  כשהייתי ילד, מטוסים היה הדבר שהכי ריתק אותי. ב...      m\n",
       "4  ‏הייתי מדריכה בכפר נוער ומתאם הכפר היינו צריכי...      f\n",
       "5  לפני כ3 חודשים טסתי לרומא למשך שבוע. טסתי במטו...      f\n",
       "6  אני כבר שנתיים נשוי והשנה אני ואישתי סוף סוף י...      m\n",
       "7  השנה התחלנו שיפוץ בדירה שלנו בתל אביב. הדירה ה...      f"
      ]
     },
     "execution_count": 5,
     "metadata": {},
     "output_type": "execute_result"
    },
    {
     "data": {
      "text/plain": [
       "(753, 2)"
      ]
     },
     "execution_count": 5,
     "metadata": {},
     "output_type": "execute_result"
    }
   ],
   "source": [
    "df_train.head(8)\n",
    "df_train.shape"
   ]
  },
  {
   "cell_type": "code",
   "execution_count": 6,
   "metadata": {},
   "outputs": [
    {
     "data": {
      "text/html": [
       "<div>\n",
       "<style scoped>\n",
       "    .dataframe tbody tr th:only-of-type {\n",
       "        vertical-align: middle;\n",
       "    }\n",
       "\n",
       "    .dataframe tbody tr th {\n",
       "        vertical-align: top;\n",
       "    }\n",
       "\n",
       "    .dataframe thead th {\n",
       "        text-align: right;\n",
       "    }\n",
       "</style>\n",
       "<table border=\"1\" class=\"dataframe\">\n",
       "  <thead>\n",
       "    <tr style=\"text-align: right;\">\n",
       "      <th></th>\n",
       "      <th>test_example_id</th>\n",
       "      <th>story</th>\n",
       "    </tr>\n",
       "  </thead>\n",
       "  <tbody>\n",
       "    <tr>\n",
       "      <th>0</th>\n",
       "      <td>0</td>\n",
       "      <td>כל קיץ אני והמשפחה נוסעים לארצות הברית לוס אנג...</td>\n",
       "    </tr>\n",
       "    <tr>\n",
       "      <th>1</th>\n",
       "      <td>1</td>\n",
       "      <td>הגעתי לשירות המדינה אחרי שנתיים כפעיל בתנועת \"...</td>\n",
       "    </tr>\n",
       "    <tr>\n",
       "      <th>2</th>\n",
       "      <td>2</td>\n",
       "      <td>אחת האהבות הגדולות שלי אלו הכלבים שלי ושל אישת...</td>\n",
       "    </tr>\n",
       "  </tbody>\n",
       "</table>\n",
       "</div>"
      ],
      "text/plain": [
       "   test_example_id                                              story\n",
       "0                0  כל קיץ אני והמשפחה נוסעים לארצות הברית לוס אנג...\n",
       "1                1  הגעתי לשירות המדינה אחרי שנתיים כפעיל בתנועת \"...\n",
       "2                2  אחת האהבות הגדולות שלי אלו הכלבים שלי ושל אישת..."
      ]
     },
     "execution_count": 6,
     "metadata": {},
     "output_type": "execute_result"
    },
    {
     "data": {
      "text/plain": [
       "(323, 2)"
      ]
     },
     "execution_count": 6,
     "metadata": {},
     "output_type": "execute_result"
    }
   ],
   "source": [
    "df_test.head(3)\n",
    "df_test.shape"
   ]
  },
  {
   "cell_type": "markdown",
   "metadata": {},
   "source": [
    "### Your implementation:\n",
    "\n",
    "\n",
    "   ### Yarin Akiva \n",
    "   ### 318424660 \n",
    "\n",
    "\n",
    "\n",
    "Write your code solution in the following code-cells"
   ]
  },
  {
   "cell_type": "markdown",
   "metadata": {},
   "source": [
    "# Preprocess\n"
   ]
  },
  {
   "cell_type": "code",
   "execution_count": 7,
   "metadata": {},
   "outputs": [],
   "source": [
    "def clean_text(text):\n",
    "    # Remove numbers, punctuation, and extra whitespace\n",
    "    text = re.sub(r'\\d+', '', text)\n",
    "    text = re.sub(r'[^\\w\\s]', '', text)\n",
    "    text = re.sub(r'\\s+', ' ', text)\n",
    "    text = text.strip()\n",
    "    return text"
   ]
  },
  {
   "cell_type": "code",
   "execution_count": 8,
   "metadata": {},
   "outputs": [],
   "source": [
    "def preprocess_data(data):\n",
    "    # Clean the text\n",
    "    data = clean_text(data)\n",
    "    \n",
    "    # Tokenize the text and keep only Hebrew tokens\n",
    "    tokens = ht.tokenize(data)\n",
    "    tokenized = ''\n",
    "    for grp, token, token_num, (start_index, end_index) in tokens:\n",
    "        if grp == 'HEBREW':\n",
    "            tokenized += token + ' '\n",
    "    \n",
    "    return tokenized"
   ]
  },
  {
   "cell_type": "code",
   "execution_count": 9,
   "metadata": {},
   "outputs": [],
   "source": [
    "df_train['story'] = df_train['story'].apply(preprocess_data)\n",
    "df_test['story'] = df_test['story'].apply(preprocess_data)"
   ]
  },
  {
   "cell_type": "code",
   "execution_count": 10,
   "metadata": {},
   "outputs": [
    {
     "name": "stdout",
     "output_type": "stream",
     "text": [
      "0      כשחבר הזמין אותי לחול לא באמת חשבתי שזה יקרה פ...\n",
      "1      לפני שהתגייסתי לצבא עשיתי כל מני מיונים ליחידו...\n",
      "2      מאז שהתחילו הלימודים חלומו של כל סטודנט זה הפנ...\n",
      "3      כשהייתי ילד מטוסים היה הדבר שהכי ריתק אותי בתו...\n",
      "4      הייתי מדריכה בכפר נוער ומתאם הכפר היינו צריכים...\n",
      "                             ...                        \n",
      "748    אז לפני שנה בדיוק טסתי לאמסטרדם עם שני חברים ט...\n",
      "749    שבוע שעבר העליתי באופן ספונטני רעיון לנסוע עם ...\n",
      "750    לפני חודש עברנו לדירה בבית שמש בעקבות משפחתי ה...\n",
      "751    החוויה אותה ארצה לשתף התרחשה לפני כמה חודשים ז...\n",
      "752    פעם כשהייתי בחו ל בקבולומביה כחלק מהטיול שלי ל...\n",
      "Name: story, Length: 753, dtype: object\n",
      "0      כל קיץ אני והמשפחה נוסעים לארצות הברית לוס אנג...\n",
      "1      הגעתי לשירות המדינה אחרי שנתיים כפעיל בתנועת י...\n",
      "2      אחת האהבות הגדולות שלי אלו הכלבים שלי ושל אישת...\n",
      "3      רגע הגיוס לצבא היה הרגע הכי משמעותי עבורי אני ...\n",
      "4      אני הגעתי לברזיל ישר מקולומביה וגם אני עשיתי ע...\n",
      "                             ...                        \n",
      "318    בשנה האחרונה הרגשתי די תקוע בעבודה השגרה הפכה ...\n",
      "319    אני ואילן חברים טובים מזה שנה תמיד חלמנו לפתח ...\n",
      "320    מידי יום שישי אני נוהג לנסוע בתחבורה ציבורית ס...\n",
      "321    לפני מספר חודשים בשיא התחלואה של הגל השני עמית...\n",
      "322    היום בו דיווחתי על גניבה של האוטו שלי בוקר אחד...\n",
      "Name: story, Length: 323, dtype: object\n"
     ]
    }
   ],
   "source": [
    "print(df_train['story'])\n",
    "print(df_test['story'])"
   ]
  },
  {
   "cell_type": "code",
   "execution_count": 11,
   "metadata": {},
   "outputs": [],
   "source": [
    "# Convert the target from categorial values to binary values\n",
    "# '1' == M , '0' == W\n",
    "df_train['gender'] = np.where(df_train['gender'] == 'm',1,0)"
   ]
  },
  {
   "cell_type": "code",
   "execution_count": 12,
   "metadata": {},
   "outputs": [
    {
     "data": {
      "text/plain": [
       "0      1\n",
       "1      1\n",
       "2      0\n",
       "3      1\n",
       "4      0\n",
       "      ..\n",
       "748    1\n",
       "749    1\n",
       "750    1\n",
       "751    0\n",
       "752    1\n",
       "Name: gender, Length: 753, dtype: int32"
      ]
     },
     "execution_count": 12,
     "metadata": {},
     "output_type": "execute_result"
    },
    {
     "data": {
      "text/plain": [
       "Index(['test_example_id', 'story'], dtype='object')"
      ]
     },
     "execution_count": 12,
     "metadata": {},
     "output_type": "execute_result"
    }
   ],
   "source": [
    "df_train['gender']\n",
    "df_test.columns"
   ]
  },
  {
   "cell_type": "code",
   "execution_count": 13,
   "metadata": {},
   "outputs": [],
   "source": [
    "# split the training data set to feature vectors and target label\n",
    "X_train = df_train['story']\n",
    "y_train = df_train['gender']"
   ]
  },
  {
   "cell_type": "code",
   "execution_count": 14,
   "metadata": {},
   "outputs": [
    {
     "name": "stdout",
     "output_type": "stream",
     "text": [
      "0      1\n",
      "1      1\n",
      "2      0\n",
      "3      1\n",
      "4      0\n",
      "      ..\n",
      "748    1\n",
      "749    1\n",
      "750    1\n",
      "751    0\n",
      "752    1\n",
      "Name: gender, Length: 753, dtype: int32\n"
     ]
    }
   ],
   "source": [
    "print(y_train)"
   ]
  },
  {
   "cell_type": "markdown",
   "metadata": {},
   "source": [
    "# Cross Validation"
   ]
  },
  {
   "cell_type": "code",
   "execution_count": 16,
   "metadata": {},
   "outputs": [
    {
     "data": {
      "text/plain": [
       "GridSearchCV(cv=10,\n",
       "             estimator=Pipeline(steps=[('tfidf', TfidfVectorizer()),\n",
       "                                       ('norm', Normalizer()),\n",
       "                                       ('clf', Perceptron())]),\n",
       "             param_grid={'clf__alpha': [0.0001, 0.001, 0.01],\n",
       "                         'tfidf__min_df': [1, 2, 3],\n",
       "                         'tfidf__ngram_range': [(1, 1), (1, 2), (1, 3)]},\n",
       "             scoring='f1_macro')"
      ]
     },
     "execution_count": 16,
     "metadata": {},
     "output_type": "execute_result"
    },
    {
     "name": "stdout",
     "output_type": "stream",
     "text": [
      "Perceptron\n",
      "Best parameters: {'clf__alpha': 0.0001, 'tfidf__min_df': 1, 'tfidf__ngram_range': (1, 3)}\n",
      "Best F1 score: 0.6895123017228578\n"
     ]
    },
    {
     "data": {
      "text/plain": [
       "GridSearchCV(cv=10,\n",
       "             estimator=Pipeline(steps=[('tfidf', TfidfVectorizer()),\n",
       "                                       ('norm', Normalizer()),\n",
       "                                       ('clf', SGDClassifier())]),\n",
       "             param_grid={'clf__alpha': [0.0001, 0.001, 0.01, 0.1],\n",
       "                         'clf__max_iter': [1000, 2000, 3000],\n",
       "                         'clf__penalty': ['l1', 'l2', 'elasticnet'],\n",
       "                         'tfidf__max_df': [0.5, 0.75, 1.0]},\n",
       "             scoring='f1_macro')"
      ]
     },
     "execution_count": 16,
     "metadata": {},
     "output_type": "execute_result"
    },
    {
     "name": "stdout",
     "output_type": "stream",
     "text": [
      "SGDClassifier\n",
      "Best parameters: {'clf__alpha': 0.0001, 'clf__max_iter': 3000, 'clf__penalty': 'l1', 'tfidf__max_df': 0.75}\n",
      "Best F1 score: 0.7204172893068881\n"
     ]
    },
    {
     "data": {
      "text/plain": [
       "GridSearchCV(cv=10,\n",
       "             estimator=Pipeline(steps=[('tfidf', TfidfVectorizer()),\n",
       "                                       ('norm', Normalizer()),\n",
       "                                       ('clf',\n",
       "                                        MLPClassifier(batch_size=100,\n",
       "                                                      early_stopping=True,\n",
       "                                                      hidden_layer_sizes=(50,),\n",
       "                                                      solver='lbfgs'))]),\n",
       "             param_grid={'clf__alpha': [0.0001, 0.001, 0.01],\n",
       "                         'clf__hidden_layer_sizes': [(50,), (100,), (150,)],\n",
       "                         'tfidf__min_df': [1, 2],\n",
       "                         'tfidf__ngram_range': [(1, 1), (1, 2)]},\n",
       "             scoring='f1_macro')"
      ]
     },
     "execution_count": 16,
     "metadata": {},
     "output_type": "execute_result"
    },
    {
     "name": "stdout",
     "output_type": "stream",
     "text": [
      "MLPClassifier\n",
      "Best parameters: {'clf__alpha': 0.0001, 'clf__hidden_layer_sizes': (50,), 'tfidf__min_df': 2, 'tfidf__ngram_range': (1, 1)}\n",
      "Best F1 score: 0.6665449045617731\n"
     ]
    },
    {
     "data": {
      "text/plain": [
       "GridSearchCV(cv=10,\n",
       "             estimator=Pipeline(steps=[('tfidf', TfidfVectorizer()),\n",
       "                                       ('norm', Normalizer()),\n",
       "                                       ('clf', LinearSVC())]),\n",
       "             param_grid={'clf__C': [0.1, 1, 10], 'tfidf__min_df': [1, 2, 3],\n",
       "                         'tfidf__ngram_range': [(1, 1), (1, 2), (1, 3)]},\n",
       "             scoring='f1_macro')"
      ]
     },
     "execution_count": 16,
     "metadata": {},
     "output_type": "execute_result"
    },
    {
     "name": "stdout",
     "output_type": "stream",
     "text": [
      "LinearSVC\n",
      "Best parameters: {'clf__C': 10, 'tfidf__min_df': 3, 'tfidf__ngram_range': (1, 1)}\n",
      "Best F1 score: 0.6592812801724213\n",
      "Best model: Pipeline(steps=[('tfidf', TfidfVectorizer(max_df=0.75)), ('norm', Normalizer()),\n",
      "                ('clf', SGDClassifier(max_iter=3000, penalty='l1'))])\n"
     ]
    }
   ],
   "source": [
    "# Define the pipeline for each model\n",
    "# By using GridSearch, finding the best params for each model.\n",
    "models = [\n",
    "    {\n",
    "        'name': 'Perceptron',\n",
    "        'pipeline': Pipeline([\n",
    "            ('tfidf', TfidfVectorizer()),\n",
    "            ('norm', Normalizer()),\n",
    "            ('clf', Perceptron())\n",
    "        ]),\n",
    "        'params': {\n",
    "            'tfidf__ngram_range': [(1,1), (1,2), (1,3)],\n",
    "            'tfidf__min_df': [1, 2, 3],\n",
    "            'clf__alpha': [0.0001, 0.001, 0.01]\n",
    "        }\n",
    "    },\n",
    "    {\n",
    "        'name': 'SGDClassifier',\n",
    "        'pipeline': Pipeline([\n",
    "            ('tfidf', TfidfVectorizer()),\n",
    "            ('norm', Normalizer()),\n",
    "            ('clf', SGDClassifier())\n",
    "        ]),\n",
    "        'params': {\n",
    "                'tfidf__max_df': [0.5, 0.75, 1.0],\n",
    "    'clf__alpha': [0.0001, 0.001, 0.01, 0.1],\n",
    "    'clf__penalty': ['l1', 'l2', 'elasticnet'],\n",
    "    'clf__max_iter': [1000, 2000, 3000]\n",
    "        }\n",
    "    },\n",
    "    {\n",
    "        'name': 'MLPClassifier',\n",
    "        'pipeline': Pipeline([\n",
    "            ('tfidf', TfidfVectorizer()),\n",
    "            ('norm', Normalizer()),\n",
    "            ('clf', MLPClassifier(\n",
    "                            solver='lbfgs',\n",
    "                alpha=0.0001,\n",
    "                hidden_layer_sizes=(50,),\n",
    "                max_iter=200,\n",
    "                batch_size=100,\n",
    "                early_stopping=True,\n",
    "                validation_fraction=0.1\n",
    "            ))\n",
    "        ]),\n",
    "        'params': {\n",
    "            'tfidf__ngram_range': [(1,1), (1,2)],\n",
    "            'tfidf__min_df': [1,2],\n",
    "            'clf__alpha': [0.0001, 0.001, 0.01],\n",
    "            'clf__hidden_layer_sizes': [(50,), (100,)]\n",
    "        }\n",
    "    },\n",
    "    {\n",
    "        'name': 'LinearSVC',\n",
    "        'pipeline': Pipeline([\n",
    "            ('tfidf', TfidfVectorizer()),\n",
    "            ('norm', Normalizer()),\n",
    "            ('clf', LinearSVC())\n",
    "        ]),\n",
    "        'params': {\n",
    "            'tfidf__ngram_range': [(1,1), (1,2), (1,3)],\n",
    "            'tfidf__min_df': [1, 2, 3],\n",
    "            'clf__C': [0.1, 1, 10]\n",
    "        }\n",
    "    }\n",
    "]\n",
    "\n",
    "# Iterate over each model, perform cross-validation and print the best parameters\n",
    "best_model = None\n",
    "best_f1_score = 0\n",
    "\n",
    "for model in models:\n",
    "    grid_search = GridSearchCV(model['pipeline'], model['params'], cv=10, scoring='f1_macro')\n",
    "    grid_search.fit(X_train, y_train)\n",
    "    \n",
    "    print(model['name'])\n",
    "    print('Best parameters:', grid_search.best_params_)\n",
    "    print('Best F1 score:', grid_search.best_score_)\n",
    "    \n",
    "    if grid_search.best_score_ > best_f1_score:\n",
    "        best_f1_score = grid_search.best_score_\n",
    "        best_model = grid_search.best_estimator_\n",
    "\n",
    "print('Best model:', best_model)"
   ]
  },
  {
   "cell_type": "markdown",
   "metadata": {},
   "source": [
    "# Best model "
   ]
  },
  {
   "cell_type": "code",
   "execution_count": 24,
   "metadata": {},
   "outputs": [
    {
     "data": {
      "text/plain": [
       "GridSearchCV(cv=10,\n",
       "             estimator=Pipeline(steps=[('tfidf', TfidfVectorizer(max_df=0.73)),\n",
       "                                       ('norm', Normalizer()),\n",
       "                                       ('clf',\n",
       "                                        SGDClassifier(random_state=42))]),\n",
       "             param_grid={'clf__alpha': [0.0001], 'clf__max_iter': [3000],\n",
       "                         'clf__penalty': ['l1'], 'tfidf__max_df': [0.75]},\n",
       "             scoring='f1_macro')"
      ]
     },
     "execution_count": 24,
     "metadata": {},
     "output_type": "execute_result"
    },
    {
     "name": "stdout",
     "output_type": "stream",
     "text": [
      "Best hyperparameters: {'clf__alpha': 0.0001, 'clf__max_iter': 3000, 'clf__penalty': 'l1', 'tfidf__max_df': 0.75}\n",
      "Best f1 score: 0.7140278157228526\n"
     ]
    }
   ],
   "source": [
    "# Define the pipeline\n",
    "best_model_sgd = Pipeline([\n",
    "    ('tfidf', TfidfVectorizer(max_df=0.73)),\n",
    "            ('norm', Normalizer(norm='l2')),\n",
    "            ('clf', SGDClassifier(random_state=42))\n",
    "        ])\n",
    "        \n",
    "# Define the parameter grid    \n",
    "params_grid = {\n",
    "            #Best params from grid search:\n",
    "            #'clf__alpha': 0.0001, 'clf__max_iter': 3000, 'clf__penalty': 'l1', 'tfidf__max_df': 0.75\n",
    "            'clf__alpha': [0.0001],\n",
    "            'clf__max_iter': [3000],\n",
    "            'clf__penalty': ['l1'],\n",
    "            'tfidf__max_df': [0.75]\n",
    "    }\n",
    "\n",
    "# Perform grid search\n",
    "grid_search = GridSearchCV(best_model_sgd,params_grid, cv=10, scoring='f1_macro')\n",
    "grid_search.fit(X_train, y_train)\n",
    "\n",
    "# Print the best hyperparameters and cross-validation score\n",
    "print(\"Best hyperparameters:\", grid_search.best_params_)\n",
    "print(\"Best f1 score:\", grid_search.best_score_)"
   ]
  },
  {
   "cell_type": "markdown",
   "metadata": {},
   "source": [
    "# Average f1 score for best model"
   ]
  },
  {
   "cell_type": "code",
   "execution_count": 25,
   "metadata": {},
   "outputs": [
    {
     "name": "stdout",
     "output_type": "stream",
     "text": [
      "Average F1 score: 0.7140278157228526\n"
     ]
    }
   ],
   "source": [
    "# Define the pipeline with the best parameters\n",
    "SGDClassifier_pipeline = Pipeline([\n",
    "    ('tfidf', TfidfVectorizer(max_df=0.75, ngram_range=(1,1))),\n",
    "    ('normalize', preprocessing.Normalizer(norm='l2')),\n",
    "    ('clf', SGDClassifier(alpha=0.0001, max_iter=3000, penalty='l1', random_state=42))\n",
    "])\n",
    "\n",
    "# Calculate the average f1 score using cross-validation\n",
    "f1_scores = cross_val_score(SGDClassifier_pipeline, X_train, y_train, cv=10, scoring='f1_macro')\n",
    "avg_f1_score = np.mean(f1_scores)\n",
    "\n",
    "# Print the average f1 score\n",
    "print(\"Average F1 score:\", avg_f1_score)"
   ]
  },
  {
   "cell_type": "markdown",
   "metadata": {},
   "source": [
    "### Predict the best model on test\n",
    "### Build the df file with the prediction"
   ]
  },
  {
   "cell_type": "code",
   "execution_count": 27,
   "metadata": {},
   "outputs": [
    {
     "data": {
      "text/plain": [
       "Pipeline(steps=[('tfidf', TfidfVectorizer(max_df=0.75)),\n",
       "                ('normalize', Normalizer()),\n",
       "                ('clf',\n",
       "                 SGDClassifier(max_iter=3000, penalty='l1', random_state=42))])"
      ]
     },
     "execution_count": 27,
     "metadata": {},
     "output_type": "execute_result"
    },
    {
     "data": {
      "text/html": [
       "<div>\n",
       "<style scoped>\n",
       "    .dataframe tbody tr th:only-of-type {\n",
       "        vertical-align: middle;\n",
       "    }\n",
       "\n",
       "    .dataframe tbody tr th {\n",
       "        vertical-align: top;\n",
       "    }\n",
       "\n",
       "    .dataframe thead th {\n",
       "        text-align: right;\n",
       "    }\n",
       "</style>\n",
       "<table border=\"1\" class=\"dataframe\">\n",
       "  <thead>\n",
       "    <tr style=\"text-align: right;\">\n",
       "      <th></th>\n",
       "      <th>id_test</th>\n",
       "      <th>y_pred</th>\n",
       "    </tr>\n",
       "  </thead>\n",
       "  <tbody>\n",
       "    <tr>\n",
       "      <th>0</th>\n",
       "      <td>0</td>\n",
       "      <td>m</td>\n",
       "    </tr>\n",
       "    <tr>\n",
       "      <th>1</th>\n",
       "      <td>1</td>\n",
       "      <td>m</td>\n",
       "    </tr>\n",
       "    <tr>\n",
       "      <th>2</th>\n",
       "      <td>2</td>\n",
       "      <td>m</td>\n",
       "    </tr>\n",
       "    <tr>\n",
       "      <th>3</th>\n",
       "      <td>3</td>\n",
       "      <td>m</td>\n",
       "    </tr>\n",
       "    <tr>\n",
       "      <th>4</th>\n",
       "      <td>4</td>\n",
       "      <td>m</td>\n",
       "    </tr>\n",
       "  </tbody>\n",
       "</table>\n",
       "</div>"
      ],
      "text/plain": [
       "   id_test y_pred\n",
       "0        0      m\n",
       "1        1      m\n",
       "2        2      m\n",
       "3        3      m\n",
       "4        4      m"
      ]
     },
     "execution_count": 27,
     "metadata": {},
     "output_type": "execute_result"
    },
    {
     "data": {
      "text/html": [
       "<div>\n",
       "<style scoped>\n",
       "    .dataframe tbody tr th:only-of-type {\n",
       "        vertical-align: middle;\n",
       "    }\n",
       "\n",
       "    .dataframe tbody tr th {\n",
       "        vertical-align: top;\n",
       "    }\n",
       "\n",
       "    .dataframe thead th {\n",
       "        text-align: right;\n",
       "    }\n",
       "</style>\n",
       "<table border=\"1\" class=\"dataframe\">\n",
       "  <thead>\n",
       "    <tr style=\"text-align: right;\">\n",
       "      <th></th>\n",
       "      <th>id_test</th>\n",
       "      <th>y_pred</th>\n",
       "    </tr>\n",
       "  </thead>\n",
       "  <tbody>\n",
       "    <tr>\n",
       "      <th>318</th>\n",
       "      <td>318</td>\n",
       "      <td>m</td>\n",
       "    </tr>\n",
       "    <tr>\n",
       "      <th>319</th>\n",
       "      <td>319</td>\n",
       "      <td>m</td>\n",
       "    </tr>\n",
       "    <tr>\n",
       "      <th>320</th>\n",
       "      <td>320</td>\n",
       "      <td>m</td>\n",
       "    </tr>\n",
       "    <tr>\n",
       "      <th>321</th>\n",
       "      <td>321</td>\n",
       "      <td>m</td>\n",
       "    </tr>\n",
       "    <tr>\n",
       "      <th>322</th>\n",
       "      <td>322</td>\n",
       "      <td>m</td>\n",
       "    </tr>\n",
       "  </tbody>\n",
       "</table>\n",
       "</div>"
      ],
      "text/plain": [
       "     id_test y_pred\n",
       "318      318      m\n",
       "319      319      m\n",
       "320      320      m\n",
       "321      321      m\n",
       "322      322      m"
      ]
     },
     "execution_count": 27,
     "metadata": {},
     "output_type": "execute_result"
    },
    {
     "data": {
      "text/html": [
       "<div>\n",
       "<style scoped>\n",
       "    .dataframe tbody tr th:only-of-type {\n",
       "        vertical-align: middle;\n",
       "    }\n",
       "\n",
       "    .dataframe tbody tr th {\n",
       "        vertical-align: top;\n",
       "    }\n",
       "\n",
       "    .dataframe thead th {\n",
       "        text-align: right;\n",
       "    }\n",
       "</style>\n",
       "<table border=\"1\" class=\"dataframe\">\n",
       "  <thead>\n",
       "    <tr style=\"text-align: right;\">\n",
       "      <th></th>\n",
       "      <th>test_example_id</th>\n",
       "      <th>predicted_category</th>\n",
       "    </tr>\n",
       "  </thead>\n",
       "  <tbody>\n",
       "    <tr>\n",
       "      <th>0</th>\n",
       "      <td>0</td>\n",
       "      <td>m</td>\n",
       "    </tr>\n",
       "    <tr>\n",
       "      <th>1</th>\n",
       "      <td>1</td>\n",
       "      <td>m</td>\n",
       "    </tr>\n",
       "    <tr>\n",
       "      <th>2</th>\n",
       "      <td>2</td>\n",
       "      <td>m</td>\n",
       "    </tr>\n",
       "    <tr>\n",
       "      <th>3</th>\n",
       "      <td>3</td>\n",
       "      <td>m</td>\n",
       "    </tr>\n",
       "    <tr>\n",
       "      <th>4</th>\n",
       "      <td>4</td>\n",
       "      <td>m</td>\n",
       "    </tr>\n",
       "    <tr>\n",
       "      <th>...</th>\n",
       "      <td>...</td>\n",
       "      <td>...</td>\n",
       "    </tr>\n",
       "    <tr>\n",
       "      <th>318</th>\n",
       "      <td>318</td>\n",
       "      <td>m</td>\n",
       "    </tr>\n",
       "    <tr>\n",
       "      <th>319</th>\n",
       "      <td>319</td>\n",
       "      <td>m</td>\n",
       "    </tr>\n",
       "    <tr>\n",
       "      <th>320</th>\n",
       "      <td>320</td>\n",
       "      <td>m</td>\n",
       "    </tr>\n",
       "    <tr>\n",
       "      <th>321</th>\n",
       "      <td>321</td>\n",
       "      <td>m</td>\n",
       "    </tr>\n",
       "    <tr>\n",
       "      <th>322</th>\n",
       "      <td>322</td>\n",
       "      <td>m</td>\n",
       "    </tr>\n",
       "  </tbody>\n",
       "</table>\n",
       "<p>323 rows × 2 columns</p>\n",
       "</div>"
      ],
      "text/plain": [
       "     test_example_id predicted_category\n",
       "0                  0                  m\n",
       "1                  1                  m\n",
       "2                  2                  m\n",
       "3                  3                  m\n",
       "4                  4                  m\n",
       "..               ...                ...\n",
       "318              318                  m\n",
       "319              319                  m\n",
       "320              320                  m\n",
       "321              321                  m\n",
       "322              322                  m\n",
       "\n",
       "[323 rows x 2 columns]"
      ]
     },
     "execution_count": 27,
     "metadata": {},
     "output_type": "execute_result"
    }
   ],
   "source": [
    "# use the best estimator model for learning\n",
    "SGDClassifier_pipeline.fit(X_train, y_train)\n",
    "y_pred = SGDClassifier_pipeline.predict(df_test[\"story\"])\n",
    "y_pred = np.where(y_pred == 1, 'm', 'f')\n",
    "pd.DataFrame({'id_test': df_test[\"test_example_id\"], 'y_pred': y_pred}).head(5)\n",
    "pd.DataFrame({'id_test': df_test[\"test_example_id\"], 'y_pred': y_pred}).tail(5)\n",
    "\n",
    "\n",
    "\n",
    "# create dataframe with the test results\n",
    "df_predicted = pd.DataFrame(\n",
    "    {'test_example_id': df_test['test_example_id'], 'predicted_category': y_pred})\n",
    "df_predicted"
   ]
  },
  {
   "cell_type": "markdown",
   "metadata": {},
   "source": [
    "### Save output to csv (optional)\n",
    "After you're done save your output to the 'classification_results.csv' csv file.<br/>\n",
    "We assume that the dataframe with your results contain the following columns:\n",
    "* column 1 (left column): 'test_example_id'  - the same id associated to each of the test stories to be predicted.\n",
    "* column 2 (right column): 'predicted_category' - the predicted gender value for each of the associated story. \n",
    "\n",
    "Assuming your predicted values are in the `df_predicted` dataframe, you should save you're results as following:"
   ]
  },
  {
   "cell_type": "code",
   "execution_count": 29,
   "metadata": {},
   "outputs": [],
   "source": [
    "df_predicted.to_csv('classification_results.csv',index=False)"
   ]
  },
  {
   "cell_type": "code",
   "execution_count": null,
   "metadata": {},
   "outputs": [],
   "source": []
  }
 ],
 "metadata": {
  "celltoolbar": "Create Assignment",
  "kernelspec": {
   "display_name": "Python 3 (ipykernel)",
   "language": "python",
   "name": "python3"
  },
  "language_info": {
   "codemirror_mode": {
    "name": "ipython",
    "version": 3
   },
   "file_extension": ".py",
   "mimetype": "text/x-python",
   "name": "python",
   "nbconvert_exporter": "python",
   "pygments_lexer": "ipython3",
   "version": "3.9.13"
  }
 },
 "nbformat": 4,
 "nbformat_minor": 4
}
